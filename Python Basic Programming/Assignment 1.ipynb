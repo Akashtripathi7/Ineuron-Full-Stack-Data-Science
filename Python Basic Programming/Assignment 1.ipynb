{
 "cells": [
  {
   "cell_type": "markdown",
   "metadata": {},
   "source": [
    "# Python Basic Programming assignment 1\n",
    "\n",
    "## Name: Akash Tripathi"
   ]
  },
  {
   "cell_type": "markdown",
   "metadata": {},
   "source": [
    "## Write a python program to print \"Hello World\""
   ]
  },
  {
   "cell_type": "code",
   "execution_count": 1,
   "metadata": {},
   "outputs": [
    {
     "name": "stdout",
     "output_type": "stream",
     "text": [
      "hello world\n"
     ]
    }
   ],
   "source": [
    "print(\"hello world\")"
   ]
  },
  {
   "cell_type": "markdown",
   "metadata": {},
   "source": [
    "## 2. Write a python program to do arithmatic operations addition and division?"
   ]
  },
  {
   "cell_type": "code",
   "execution_count": 3,
   "metadata": {},
   "outputs": [
    {
     "name": "stdout",
     "output_type": "stream",
     "text": [
      "Select a operation you want to perform:         \n",
      "1.addition(+)        \n",
      "2.Substraction(-)          \n",
      "3. Stop(0) \n",
      "\n",
      "Enter a operation ------> +\n",
      "\n",
      " Enter the first Number:  9488\n",
      "\n",
      " Enter the second Number:  39280\n",
      "9488 + 39280 = 48768\n",
      "\n",
      "Enter a operation ------> -\n",
      "\n",
      " Enter the first Number:  9240902\n",
      "\n",
      " Enter the second Number:  93024\n",
      "9240902 - 93024 = 9147878\n",
      "\n",
      "Enter a operation ------> 0\n",
      "You have stopped the program\n"
     ]
    }
   ],
   "source": [
    "import operator\n",
    "\n",
    "operations = {\"+\": operator.add, \"-\": operator.sub}\n",
    "\n",
    "print(\"Select a operation you want to perform: \\\n",
    "        \\n1.addition(+)\\\n",
    "        \\n2.Substraction(-) \\\n",
    "         \\n3. Stop(0) \\n\")\n",
    "\n",
    "while True:\n",
    "    operator = input(\"Enter a operation ------> \")\n",
    "    \n",
    "    if operator == '0':\n",
    "        print(\"You have stopped the program\")\n",
    "        break\n",
    "    elif operator not in ['+', '-']:\n",
    "        print(\"Please enter a valid operation\")\n",
    "    else:\n",
    "        num1 = int(input(\"\\n Enter the first Number:  \"))\n",
    "        num2 = int(input(\"\\n Enter the second Number:  \"))\n",
    "        print('{} {} {} = {}\\n'.format(num1,operator, num2, operations[operator](num1, num2)))\n",
    "\n"
   ]
  },
  {
   "cell_type": "markdown",
   "metadata": {},
   "source": [
    "## 3. Write a python program to  find the area of a triangle?"
   ]
  },
  {
   "cell_type": "code",
   "execution_count": 6,
   "metadata": {},
   "outputs": [
    {
     "name": "stdout",
     "output_type": "stream",
     "text": [
      "Enter the height of the triangle:  34\n",
      "Enter the base of the triangle:  23\n",
      "Area of the triangle is --->  391.0\n"
     ]
    }
   ],
   "source": [
    "height = int(input(\"Enter the height of the triangle:  \"))\n",
    "base = int(input(\"Enter the base of the triangle:  \"))\n",
    "\n",
    "def TriangleArea(height, base):\n",
    "    print('Area of the triangle is ---> ', 0.5*base*height)\n",
    "    \n",
    "TriangleArea(height, base)"
   ]
  },
  {
   "cell_type": "markdown",
   "metadata": {},
   "source": [
    "## 4. Write a python program to swap two variables?\n"
   ]
  },
  {
   "cell_type": "code",
   "execution_count": 11,
   "metadata": {},
   "outputs": [
    {
     "name": "stdout",
     "output_type": "stream",
     "text": [
      "Before Swapping the value are ---->  34 23\n",
      "After swapping the values are ------>  23 34\n"
     ]
    }
   ],
   "source": [
    "a = 34\n",
    "b = 23\n",
    "\n",
    "\n",
    "print(\"Before Swapping the value are ----> \", a,b)\n",
    "\n",
    "a,b = b,a \n",
    "\n",
    "print(\"After swapping the values are ------> \" ,a,b)\n"
   ]
  },
  {
   "cell_type": "markdown",
   "metadata": {},
   "source": [
    "## 5. Write a python program to generate a random number?\n"
   ]
  },
  {
   "cell_type": "code",
   "execution_count": 23,
   "metadata": {},
   "outputs": [
    {
     "name": "stdout",
     "output_type": "stream",
     "text": [
      "17\n",
      "248\n",
      "0.24620793953592512\n"
     ]
    }
   ],
   "source": [
    "import random\n",
    "\n",
    "random_number = random.randint(0,100)\n",
    "print(random_number)\n",
    "\n",
    "randn = random.randint(0, 1000)\n",
    "print(randn)\n",
    "\n",
    "\n",
    "rand = random.random()\n",
    "print(rand)"
   ]
  },
  {
   "cell_type": "code",
   "execution_count": null,
   "metadata": {},
   "outputs": [],
   "source": []
  },
  {
   "cell_type": "code",
   "execution_count": null,
   "metadata": {},
   "outputs": [],
   "source": []
  }
 ],
 "metadata": {
  "kernelspec": {
   "display_name": "Python 3",
   "language": "python",
   "name": "python3"
  },
  "language_info": {
   "codemirror_mode": {
    "name": "ipython",
    "version": 3
   },
   "file_extension": ".py",
   "mimetype": "text/x-python",
   "name": "python",
   "nbconvert_exporter": "python",
   "pygments_lexer": "ipython3",
   "version": "3.8.5"
  }
 },
 "nbformat": 4,
 "nbformat_minor": 4
}
