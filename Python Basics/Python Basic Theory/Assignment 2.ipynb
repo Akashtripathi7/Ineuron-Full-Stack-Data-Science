{
 "cells": [
  {
   "cell_type": "markdown",
   "metadata": {},
   "source": [
    "## Assignment 2 : Python Basics Theory\n",
    "\n",
    "\n",
    "### Name: Akash Tripathi "
   ]
  },
  {
   "cell_type": "markdown",
   "metadata": {},
   "source": [
    "\n",
    "\n",
    "## 1. What are the Boolean data type's two values? How do you go about writing them?\n",
    "\n",
    "#### Solutiion: \n",
    "So the Boolean data types has two possible values: **true** and **false**\n",
    "It is also represented as 1 and 0 where 1 means true while 0 means false"
   ]
  },
  {
   "cell_type": "code",
   "execution_count": 2,
   "metadata": {},
   "outputs": [
    {
     "name": "stdout",
     "output_type": "stream",
     "text": [
      "False\n",
      "True\n"
     ]
    }
   ],
   "source": [
    "# Eg\n",
    "print(5>7)\n",
    "\n",
    "print(7<11)"
   ]
  },
  {
   "cell_type": "markdown",
   "metadata": {},
   "source": [
    "## 2. What are the three different types of Boolean operators?\n",
    "\n",
    "#### Solution:\n",
    "AND, OR, NOT"
   ]
  },
  {
   "cell_type": "markdown",
   "metadata": {},
   "source": [
    "## 3. Make a list of each Boolean operator&#39;s truth tables (i.e. every possible combination of Boolean values for the operator and what it evaluate\n",
    "\n",
    "#### Solution\n",
    "\n",
    "1. In 'or' operation, if any single term is tru then it'll return true and if both the terms are false then only it will return false.\n",
    "2. In 'And' operation, if any single term is false then it'll return false and if both the term are true, then only it will return true\n",
    "3. 'not' operation basically converts true to false and false to true\n"
   ]
  },
  {
   "cell_type": "markdown",
   "metadata": {},
   "source": [
    "True == 1 and False == 0\n",
    "\n",
    "     x  y    x or y\n",
    "     0  0     0     \n",
    "     0  1     1\n",
    "     1  0     1\n",
    "     1  1     1\n",
    "     \n",
    "     x  y    x and y\n",
    "     0  0     0     \n",
    "     0  1     0\n",
    "     1  0     0\n",
    "     1  1     1"
   ]
  },
  {
   "cell_type": "markdown",
   "metadata": {},
   "source": [
    "## 4. What are the values of the following expressions?\n",
    "### solution: \n",
    "\n",
    "##### (5 > 4) and (3 == 5)--> False\n",
    "\n",
    "##### not(5>4)--> False\n",
    "\n",
    "##### (5>4)or(3==5)--> True\n",
    "\n",
    "###### not ((5 > 4) or (3 == 5))--> False\n",
    "\n",
    "###### (True and True) and (True == False)--> False\n",
    "\n",
    "###### (not False) or (not True)--> True"
   ]
  },
  {
   "cell_type": "markdown",
   "metadata": {},
   "source": [
    "## 5. What are the six comparison operators?\n",
    "\n",
    "### Solution:\n",
    "\n",
    "\n",
    "    1. <  greater than\n",
    "    2. >  less than\n",
    "    3. <= less than equal to\n",
    "    4. >= greater than equal to\n",
    "    5. == equal to\n",
    "    6. != not equal to"
   ]
  },
  {
   "cell_type": "markdown",
   "metadata": {},
   "source": [
    "## 6. How do you tell the difference between the equal to and assignment operators?Describe a condition and when you would use one.\n",
    "\n",
    "== is the equal to operator. This will basically check the expression and will return true or false depending on the condition provided.\n",
    "\n",
    "= is the assignment operator. This basically initializes the value in some sort of variable \n",
    "\n",
    "eg :\n",
    "1. (10 == 9) --> this will check whether 10 is equals to 9, since it is not hence it will return false\n",
    "\n",
    "2. name = \"Akash\"\n",
    "So here name is the variable and Akash is the string so with the help of the assignment operator i.e., = . I am storing string i.e., Akash in the variable name"
   ]
  },
  {
   "cell_type": "markdown",
   "metadata": {},
   "source": [
    "## 7. Identify the three blocks in this code:\n",
    "spam = 0\n",
    "if spam == 10;\n",
    "print(\"eggs\")\n",
    "if spam > 5:\n",
    "print(\"bacon\")\n",
    "else:\n",
    "print(\"ham\")\n",
    "print(\"spam\")\n",
    "print(\"spam\")\n",
    "\n",
    "### Solution\n",
    "\n",
    "The three blocks are inside thr if statement print('bacon') and print('ham').\n",
    "\n",
    "print('eggs')\n",
    "if spam > 5:\n",
    "    print('bacon')\n",
    "else:\n",
    "    print('ham')\n",
    "print('spam')"
   ]
  },
  {
   "cell_type": "markdown",
   "metadata": {},
   "source": [
    "## 8. Write code that prints Hello if 1 is stored in spam, prints Howdy if 2 is stored in spam, and prints Greetings! if anything else is stored in spam.\n",
    "\n",
    "### solution:\n"
   ]
  },
  {
   "cell_type": "code",
   "execution_count": 1,
   "metadata": {},
   "outputs": [
    {
     "name": "stdout",
     "output_type": "stream",
     "text": [
      "1\n",
      "hello\n"
     ]
    }
   ],
   "source": [
    "spam = int(input())\n",
    "           \n",
    "if spam == 1:\n",
    "    print(\"hello\")\n",
    "elif spam == 2:\n",
    "    print(\"howdy\")\n",
    "else: \n",
    "    print(\"Greetings\")"
   ]
  },
  {
   "cell_type": "code",
   "execution_count": 2,
   "metadata": {},
   "outputs": [
    {
     "name": "stdout",
     "output_type": "stream",
     "text": [
      "2\n",
      "Howdy\n"
     ]
    }
   ],
   "source": [
    "spam = int(input())\n",
    "\n",
    "if spam==1:\n",
    "    print(\"Hello\")\n",
    "elif spam==2:\n",
    "    print(\"Howdy\")\n",
    "else:\n",
    "    print(\"Greetings!\")"
   ]
  },
  {
   "cell_type": "code",
   "execution_count": 3,
   "metadata": {},
   "outputs": [
    {
     "name": "stdout",
     "output_type": "stream",
     "text": [
      "3\n",
      "Greetings!\n"
     ]
    }
   ],
   "source": [
    "spam = int(input())\n",
    "\n",
    "if spam==1:\n",
    "    print(\"Hello\")\n",
    "elif spam==2:\n",
    "    print(\"Howdy\")\n",
    "else:\n",
    "    print(\"Greetings!\")"
   ]
  },
  {
   "cell_type": "markdown",
   "metadata": {},
   "source": [
    "## 9.If your programme is stuck in an endless loop, what keys you’ll press?\n",
    "\n",
    "### Solution:\n",
    "#### Ctrl + c"
   ]
  },
  {
   "cell_type": "markdown",
   "metadata": {},
   "source": [
    "## 10. How can you tell the difference between break and continue?\n",
    "#### Break : when a break statement is used it basically terminates the block and gets the control out of the loop\n",
    "             Syntax: break;\n",
    "#### continue : When a continue statement is encountered, it gets the control to the next iteration of the loop.\n",
    "             Syntax: continue;"
   ]
  },
  {
   "cell_type": "markdown",
   "metadata": {},
   "source": [
    "## 11. In a for loop, what is the difference between range(10), range(0, 10), and range(0, 10, 1)?\n",
    "\n",
    "#### Solution:\n",
    "\n",
    "Both range(10) and range(0,10) are same because the both give numbers from 0 to 9.\n",
    "also in case of range(0,10,1) give same output starting from 0 with increment of 1 \n",
    "upto 9"
   ]
  },
  {
   "cell_type": "markdown",
   "metadata": {},
   "source": [
    "## 12. Write a short program that prints the numbers 1 to 10 using a for loop. Then write an equivalent program that prints the numbers 1 to 10 using a while loop.\n",
    "\n",
    "### Solution"
   ]
  },
  {
   "cell_type": "code",
   "execution_count": 5,
   "metadata": {},
   "outputs": [
    {
     "name": "stdout",
     "output_type": "stream",
     "text": [
      "1\n",
      "2\n",
      "3\n",
      "4\n",
      "5\n",
      "6\n",
      "7\n",
      "8\n",
      "9\n",
      "10\n"
     ]
    }
   ],
   "source": [
    "# printing 1 to 10 using far loop\n",
    "\n",
    "for a in range(1,11):\n",
    "    print(a)"
   ]
  },
  {
   "cell_type": "code",
   "execution_count": 2,
   "metadata": {},
   "outputs": [
    {
     "name": "stdout",
     "output_type": "stream",
     "text": [
      "1\n",
      "2\n",
      "3\n",
      "4\n",
      "5\n",
      "6\n",
      "7\n",
      "8\n",
      "9\n",
      "10\n"
     ]
    }
   ],
   "source": [
    "# printing 1 to 10 using while loop\n",
    "\n",
    "a = 1\n",
    "while a>0 and a<11:\n",
    "    print(a)\n",
    "    a = a+1"
   ]
  },
  {
   "cell_type": "markdown",
   "metadata": {},
   "source": [
    "## 13. If you had a function named bacon() inside a module named spam, how would you call it after importing spam?\n",
    "\n",
    "#### Solution:\n",
    "\n"
   ]
  }
 ],
 "metadata": {
  "kernelspec": {
   "display_name": "Python 3",
   "language": "python",
   "name": "python3"
  },
  "language_info": {
   "codemirror_mode": {
    "name": "ipython",
    "version": 3
   },
   "file_extension": ".py",
   "mimetype": "text/x-python",
   "name": "python",
   "nbconvert_exporter": "python",
   "pygments_lexer": "ipython3",
   "version": "3.8.5"
  }
 },
 "nbformat": 4,
 "nbformat_minor": 4
}
