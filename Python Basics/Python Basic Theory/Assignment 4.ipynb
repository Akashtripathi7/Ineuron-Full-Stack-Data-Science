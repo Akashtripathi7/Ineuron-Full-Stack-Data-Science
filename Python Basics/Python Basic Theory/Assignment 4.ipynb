{
 "cells": [
  {
   "cell_type": "markdown",
   "metadata": {},
   "source": [
    "# Python Basic Assignment no. 4\n",
    "\n",
    "## Name: Akash Tripathi"
   ]
  },
  {
   "cell_type": "markdown",
   "metadata": {},
   "source": [
    "### 1. What exactly is [] ?\n",
    "\n",
    "Ans : This is a representation of empty list. Basically it is a list that contains no items.\n",
    "\n"
   ]
  },
  {
   "cell_type": "markdown",
   "metadata": {},
   "source": [
    "### 2. In a list of values stored in a variable called spam, how would you assign the value 'hello' as the third value? (Assume [2, 4,6 8, 10] are in spam.)  \n",
    "\n",
    "Ans: spam[2] = 'hello'"
   ]
  },
  {
   "cell_type": "code",
   "execution_count": 3,
   "metadata": {},
   "outputs": [
    {
     "data": {
      "text/plain": [
       "[2, 4, 'hello', 8, 10]"
      ]
     },
     "execution_count": 3,
     "metadata": {},
     "output_type": "execute_result"
    }
   ],
   "source": [
    "spam = [2, 4, 6, 8, 10]\n",
    "spam[2] = 'hello'\n",
    "spam"
   ]
  },
  {
   "cell_type": "markdown",
   "metadata": {},
   "source": [
    "### Let's pretend the spam includes the list ['a', 'b', 'c', 'd']  for the next three queries"
   ]
  },
  {
   "cell_type": "markdown",
   "metadata": {},
   "source": [
    "# 3. What is the value of spam[int(int('3' * 2)/11)]?\n",
    "\n",
    "Ans : 'd' will get displsyed as 'd' is at the 3rd index inside the list.\n",
    "(Note: '3' is a string and it gets multiplied 2 times and becomes '33' after that it is being converted into and integer and then gets divided by 11 which becomes **3** and **spam[3]** prints  'd'\n"
   ]
  },
  {
   "cell_type": "markdown",
   "metadata": {},
   "source": [
    "### 4. What is the value of spam[-1] ?\n",
    "Ans: Since list supports negative indexing hence, spam[-1] will be 'd'. "
   ]
  },
  {
   "cell_type": "markdown",
   "metadata": {},
   "source": [
    "# What is the value of spam[:2] ?\n",
    "\n",
    "Ans : spam[:2] will basically returns all the elements in list spam from 0 to 2 and it will exlude 2 .\n",
    "    so simply it'll return **['a', 'b']**"
   ]
  },
  {
   "cell_type": "markdown",
   "metadata": {},
   "source": [
    "### Let's pretend bacon has the list [3.14, 'cat', 11, 'cat', True]\n",
    "\n"
   ]
  },
  {
   "cell_type": "markdown",
   "metadata": {},
   "source": [
    "# 6. What is the value of bacon.index('cat')?\n",
    "\n",
    "Ans. So the value will be 1. As 'cat' is present at the first index value. \n",
    "     But it also present at 3rd index as well but since it is present at 1st index value first hence it is returning 1"
   ]
  },
  {
   "cell_type": "markdown",
   "metadata": {},
   "source": [
    "### 7. How does bacon.append(99) change the look of the list value in the bacon?\n",
    "\n",
    "Ans: So because of **bacon.append(99)** 99 will be added at the end of the list means at the last position 99 will be getting appended.\n",
    "As the **append** method add new elements at the end of the list"
   ]
  },
  {
   "cell_type": "markdown",
   "metadata": {},
   "source": [
    "### 8. How does bacon.romove('cat') change the look of the list in bacon?\n",
    "\n",
    "Ans: So this will basically remove the **'cat'** which is present at the first index position.\n",
    "    As the **remove** function basically removes the first occurence of the element in the list."
   ]
  },
  {
   "cell_type": "markdown",
   "metadata": {},
   "source": [
    "### 9. What are th list concatenation and the list replication operation?\n",
    "\n",
    "Ans: The operator for list concatenation is `+` and the operator for list replication is `*`\n",
    "Let's see this with an example below:\n"
   ]
  },
  {
   "cell_type": "code",
   "execution_count": 29,
   "metadata": {},
   "outputs": [
    {
     "name": "stdout",
     "output_type": "stream",
     "text": [
      "ListConcatenation =  [1, 5, 9, 11, 2, 3, 4, 7, 'akash']\n",
      "ListReplication =  [2, 3, 4, 7, 'akash', 2, 3, 4, 7, 'akash']\n",
      "ListReplication =  [2, 3, 4, 7, 'akash', 2, 3, 4, 7, 'akash', 2, 3, 4, 7, 'akash']\n"
     ]
    }
   ],
   "source": [
    "list_1 = [1, 5,9,11]\n",
    "list_2 = [2,3,4,7,'akash']\n",
    "print('ListConcatenation = ', list_1+list_2) # this is will add the two list together in a single list\n",
    "print('ListReplication = ', list_2*2) # because of the every element will get repeated as many times as the number we have provided\n",
    "print('ListReplication = ', list_2*3) # every element get replicated 3 times because i have mulitplied the list by 3"
   ]
  },
  {
   "cell_type": "markdown",
   "metadata": {},
   "source": [
    "### 10. What are the difference between the list methods append() and insert()?\n",
    "\n",
    "Ans: So when we use the append() method we basically add that item which we provided inside the append  that will get added at the end of the list as `append()` method adds new element at the end of the list. \n",
    "While, `insert()` method basically asks for position and the element,so this will add that element at the specified position. For example if i want to insert 'akash' at 2nd position. So for that i'll write `x.insert(2,'akash')`\n"
   ]
  },
  {
   "cell_type": "markdown",
   "metadata": {},
   "source": [
    "### 11. What are the two methods for removing items from the list?\n",
    "\n",
    "Ans: The  two methods for removing items from lists are:\n",
    "1. `remove()` --> The remove() method is one of the most commonly used list object methods to remove an item or an element from the list. When you use this method, you will need to specify the particular item that is to be removed. Note that, if there are multiple occurrences of the item specified, then its first occurrence will be removed from the list.  We can consider this method as **“removal by item’s value”**. If the particular item to be removed is not found, then a **ValueError** is raised.\n",
    "\n",
    "2. `pop()` --> The pop() method is another commonly used list object method. This method removes an item or an element from the list, and returns it. The difference between this method and the remove() method is that, we should specify the **item** to be removed in the remove() method. But, when using the pop(), we specify the **index** of the item as the argument, and hence, it pops out the item to be returned at the specified index. If the particular item to be removed is not found, then an **IndexError** is raised. \n",
    "     \n",
    "     "
   ]
  },
  {
   "cell_type": "markdown",
   "metadata": {},
   "source": [
    "### 12. Describe how list values and string values are identical?\n",
    "\n",
    "Ans: . Lists are similar to strings, which are basically ordered collections of characters, except that the elements of a list can have any type and for any one list, the items can be of different types."
   ]
  },
  {
   "cell_type": "markdown",
   "metadata": {},
   "source": [
    "### 13. What's the difference between list and tuples?\n",
    "\n",
    "Ans: Both list and tuple are the class of data structure.\n",
    "list is represent as `my_list = [3,5,'akash', 'apple', True]`\n",
    "Whereas tuples are represented as `my_tuple = ('akash', 4, 6, 7, True)`\n",
    "\n",
    "The key difference betweeen them are:\n",
    "\n",
    "1. Lists are mutable while tuples are immutable\n",
    "2. lists are useful for performing operations such as insertion and deletion while tuples are useful for accessing the elements\n",
    "3. List consumes more memory while tuples consumes less memory as compared to list\n",
    "4. List has several built-in methods while tuples does not have any built-in methods"
   ]
  },
  {
   "cell_type": "markdown",
   "metadata": {},
   "source": [
    "### 14. How do you type a tuple value that only contins the integer 42?\n",
    "\n",
    "Ans: `(42, )`. The `,` is compulsory as it will consider it as an `int` by the python interpreter"
   ]
  },
  {
   "cell_type": "code",
   "execution_count": 46,
   "metadata": {},
   "outputs": [
    {
     "name": "stdout",
     "output_type": "stream",
     "text": [
      "<class 'int'>\n",
      "<class 'tuple'>\n"
     ]
    }
   ],
   "source": [
    "tup1 = (42)\n",
    "tup2 = (42, )\n",
    "print(type(tup1))\n",
    "print(type(tup2))"
   ]
  },
  {
   "cell_type": "markdown",
   "metadata": {},
   "source": [
    "### 15. How do you get a list value's from tuple? How do you get tuple value's from the list?\n",
    "\n",
    "An: The tuple() and list() functions are used to convert a list to tuple and tuple to list.\n",
    "    Let's see this with a small example below,"
   ]
  },
  {
   "cell_type": "code",
   "execution_count": 52,
   "metadata": {},
   "outputs": [
    {
     "name": "stdout",
     "output_type": "stream",
     "text": [
      "this is a list [2, 4, 6, 5]\n",
      "<class 'list'>\n",
      "This becomes tuple (2, 4, 6, 5)\n",
      "<class 'tuple'>\n"
     ]
    }
   ],
   "source": [
    "# list from tuple\n",
    "\n",
    "mylist = [2,4,6,5]\n",
    "print(\"this is a list\", mylist)\n",
    "print(type(mylist))\n",
    "print(\"This becomes tuple\", tuple(mylist))\n",
    "print(type(tuple(mylist)))\n",
    "\n"
   ]
  },
  {
   "cell_type": "markdown",
   "metadata": {},
   "source": [
    "### 16. Variables that \"contain\" list values are not necessarily lists themselves. Instead, what do they contain?\n",
    "\n",
    "Ans: They contain references to the list values. List itself is an object."
   ]
  },
  {
   "cell_type": "markdown",
   "metadata": {},
   "source": [
    "### 17. How do you distinguish between copy.copy() and copy.deepcopy()?\n",
    "\n",
    "Ans: \n",
    "1. copy.copy(): This is opposite of the deep copy. Any change in the new object copied object will affect the datas in original object.\n",
    "\n",
    "2. copy.deepcopy(): This inndicate the deep copy. With this the data of the original object,say ob_1, will get copied into other object,say ob2. Whenever there is a change in the new object, say ob_2, then it will not affect the datas of original object ob_1"
   ]
  },
  {
   "cell_type": "code",
   "execution_count": null,
   "metadata": {},
   "outputs": [],
   "source": []
  },
  {
   "cell_type": "code",
   "execution_count": null,
   "metadata": {},
   "outputs": [],
   "source": []
  },
  {
   "cell_type": "code",
   "execution_count": null,
   "metadata": {},
   "outputs": [],
   "source": []
  }
 ],
 "metadata": {
  "kernelspec": {
   "display_name": "Python 3",
   "language": "python",
   "name": "python3"
  },
  "language_info": {
   "codemirror_mode": {
    "name": "ipython",
    "version": 3
   },
   "file_extension": ".py",
   "mimetype": "text/x-python",
   "name": "python",
   "nbconvert_exporter": "python",
   "pygments_lexer": "ipython3",
   "version": "3.8.5"
  }
 },
 "nbformat": 4,
 "nbformat_minor": 4
}
