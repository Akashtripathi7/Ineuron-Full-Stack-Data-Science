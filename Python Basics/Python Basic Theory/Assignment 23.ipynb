{
  "cells": [
    {
      "cell_type": "markdown",
      "id": "372ee7a9",
      "metadata": {
        "id": "372ee7a9"
      },
      "source": [
        "## Assignment 23: Python Basics Theory\n",
        "\n",
        "\n",
        "### Name: Akash Tripathi"
      ]
    },
    {
      "cell_type": "markdown",
      "id": "cbe5add1",
      "metadata": {
        "id": "cbe5add1"
      },
      "source": [
        "#### 1. What is the result of the code, and why?\n",
        "`>>> def func(a, b=6, c=8):`   \n",
        "`print(a, b, c)`   \n",
        "`>>> func(1, 2)`   \n",
        "**Ans:** The result of the above code is `1 2 8`. its because the function uses the default value of c ie 8 which  is provided at the time of declaration"
      ]
    },
    {
      "cell_type": "code",
      "execution_count": null,
      "id": "25277357",
      "metadata": {
        "id": "25277357",
        "outputId": "dec7bdc7-01a6-4e99-b6f9-84fb65a22b74"
      },
      "outputs": [
        {
          "name": "stdout",
          "output_type": "stream",
          "text": [
            "1 2 8\n"
          ]
        }
      ],
      "source": [
        "def func(a,b=6,c=8):\n",
        "    print(a,b,c)\n",
        "func(1,2)"
      ]
    },
    {
      "cell_type": "markdown",
      "id": "9fcdfe9e",
      "metadata": {
        "id": "9fcdfe9e"
      },
      "source": [
        "#### 2. What is the result of this code, and why?\n",
        "`>>> def func(a, b, c=5):`  \n",
        "`print(a, b, c)`  \n",
        "`>>> func(1, c=3, b=2)`     \n",
        "**Ans:** The result of the above code is `1 2 3`. it is because the function will use default values only when a value for a argument is not provided and if argument name is mentioned while doing a function call, the order of arguments is also ignored by the python interpreter"
      ]
    },
    {
      "cell_type": "code",
      "execution_count": null,
      "id": "dfb849ce",
      "metadata": {
        "id": "dfb849ce",
        "outputId": "f3907f4d-45ed-4499-bf41-e2d88395645e"
      },
      "outputs": [
        {
          "name": "stdout",
          "output_type": "stream",
          "text": [
            "1 2 3\n"
          ]
        }
      ],
      "source": [
        "def func(a,b,c=5):\n",
        "    print(a,b,c)\n",
        "func(1,c=3,b=2)"
      ]
    },
    {
      "cell_type": "markdown",
      "id": "d030f9f1",
      "metadata": {
        "id": "d030f9f1"
      },
      "source": [
        "#### 3. How about this code: what is its result, and why?\n",
        "`>>> def func(a, *pargs):`   \n",
        "`print(a, pargs)`   \n",
        "`>>> func(1, 2, 3)`   \n",
        "**Ans:** The result of the code is `1 (2,3)`. `*pargs` stands for variable length arguments. this format is used when we are not sure about the no of arguments to be passed to a function. all the values under this argument will be stored in a tuple."
      ]
    },
    {
      "cell_type": "code",
      "execution_count": null,
      "id": "82ddc925",
      "metadata": {
        "id": "82ddc925",
        "outputId": "4f5309ef-7a9d-4759-e172-267d0a0b5786"
      },
      "outputs": [
        {
          "name": "stdout",
          "output_type": "stream",
          "text": [
            "1 (2, 3)\n"
          ]
        }
      ],
      "source": [
        "def func(a, *pargs):\n",
        "    print(a,pargs)\n",
        "func(1,2,3)"
      ]
    },
    {
      "cell_type": "markdown",
      "id": "c1c3848b",
      "metadata": {
        "id": "c1c3848b"
      },
      "source": [
        "#### 4. What does this code print, and why?\n",
        "`>>> def func(a, **kargs):`   \n",
        "`print(a, kargs)`   \n",
        "`>>> func(a=1, c=3, b=2)`   \n",
        "**Ans:** The result of the above code is `1 {'c': 3, 'b': 2}`. `**args` stands for variable length keyword arguments. this format is used when we want pass key value pairs as input to a function. All these key value pairs will be stored in a dictionary"
      ]
    },
    {
      "cell_type": "code",
      "execution_count": null,
      "id": "53f34da6",
      "metadata": {
        "id": "53f34da6",
        "outputId": "b2798efd-a0d1-45e2-910c-dff554dd44c5"
      },
      "outputs": [
        {
          "name": "stdout",
          "output_type": "stream",
          "text": [
            "1 {'c': 3, 'b': 2}\n"
          ]
        }
      ],
      "source": [
        "def func(a,**kargs):\n",
        "    print(a,kargs)\n",
        "func(a=1,c=3,b=2)"
      ]
    },
    {
      "cell_type": "markdown",
      "id": "473e1bdf",
      "metadata": {
        "id": "473e1bdf"
      },
      "source": [
        "#### 5. What gets printed by this, and explain?\n",
        "`>>> def func(a, b, c=8, d=5): print(a, b, c, d)`   \n",
        "`>>> func(1, *(5, 6))`   \n",
        "    **Ans:** The output of the above is `1 5 6 5`. This reason for this function not throwing an error is because, this function expects 4 arguments. the value for a is provided explicitly whereas for arguments b and c, the function will expand the `*(5,6)` and consider the value of b as 5 and value of c as 6. since the default value of d is provided in function declaration d value will be 5. However it is recommended to use the feature of positional arguments at the end."
      ]
    },
    {
      "cell_type": "code",
      "execution_count": null,
      "id": "ab5de589",
      "metadata": {
        "id": "ab5de589",
        "outputId": "6207c7b1-7637-48dd-e89f-02ec60a6fb5a"
      },
      "outputs": [
        {
          "name": "stdout",
          "output_type": "stream",
          "text": [
            "1 5 6 5\n"
          ]
        }
      ],
      "source": [
        "def func(a,b,c=8,d=5):\n",
        "    print(a,b,c,d)\n",
        "func(1,*(5,6))"
      ]
    },
    {
      "cell_type": "markdown",
      "id": "e6fd179c",
      "metadata": {
        "id": "e6fd179c"
      },
      "source": [
        "#### 6. what is the result of this, and explain?\n",
        "`>>> def func(a, b, c): a = 2; b[0] = 'x'; c['a'] = 'y'`   \n",
        "`>>> l=1; m=[1]; n={'a':0}`   \n",
        "`>>> func(l, m, n)`   \n",
        "`>>> l, m, n`   \n",
        "**Ans:** The output of above code is `1, ['x'], {'a': 'y'}`.\n",
        "1. Eventhough Python gives importance to indentation. its provides a facility to declare an entire function in one single line. where statements in a function body are sepereated by `;`\n",
        "2. When `l,m,n` are provided as inputs to the function. its modifies the values of l,m,n and sets the value of `l=2` ,`m=['x']` and `n={'a':'y'}`"
      ]
    },
    {
      "cell_type": "code",
      "execution_count": null,
      "id": "3a23e9c9",
      "metadata": {
        "id": "3a23e9c9",
        "outputId": "af78fbb3-ad58-42f4-ebb5-0c409b42cdf7"
      },
      "outputs": [
        {
          "data": {
            "text/plain": [
              "(1, ['x'], {'a': 'y'})"
            ]
          },
          "execution_count": 6,
          "metadata": {},
          "output_type": "execute_result"
        }
      ],
      "source": [
        "def func(a, b, c): a = 2; b[0] = 'x'; c['a'] = 'y'\n",
        "l=1; m=[1]; n={'a':0}\n",
        "func(l, m, n)\n",
        "l,m,n"
      ]
    }
  ],
  "metadata": {
    "kernelspec": {
      "display_name": "Python 3",
      "language": "python",
      "name": "python3"
    },
    "language_info": {
      "codemirror_mode": {
        "name": "ipython",
        "version": 3
      },
      "file_extension": ".py",
      "mimetype": "text/x-python",
      "name": "python",
      "nbconvert_exporter": "python",
      "pygments_lexer": "ipython3",
      "version": "3.8.8"
    },
    "colab": {
      "name": "23.Assignment_23.ipynb",
      "provenance": []
    }
  },
  "nbformat": 4,
  "nbformat_minor": 5
}