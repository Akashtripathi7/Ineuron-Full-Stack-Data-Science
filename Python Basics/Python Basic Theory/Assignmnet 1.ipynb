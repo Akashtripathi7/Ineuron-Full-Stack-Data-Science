{
 "cells": [
  {
   "cell_type": "markdown",
   "metadata": {},
   "source": [
    "## 1. In the below elements which of them are values or an expression? \n",
    "### Solution\n",
    "#####   * : This is basically a *Multiply Operator* used for the purpose of multiplication of two operands. \n",
    "            Syntax : a * b\n",
    "\n",
    "\n",
    "##### 'hello' : This is a String\n",
    "##### -87.8 : This is basically a Float value\n",
    "##### - : This is a Subtraction Operator. It simply subtract the two operands \n",
    "       Syntax : a - b\n",
    "#### / : This is the division operator. It divides the numbers and returns a floating point value. \n",
    "\n",
    "        Synatax : 7/2 = 3.5\n",
    "#### + : This is the addition operator. It simply adds the operands\n",
    "            Syntax : a + b\n",
    "##### 6 : It is a integer type value. Basically an integer is a number with no fractional or decimal part"
   ]
  },
  {
   "cell_type": "markdown",
   "metadata": {},
   "source": [
    "## 2. What is the difference between string and variable?\n",
    "\n",
    "#### Solution: \n",
    "Simple *Variables* can store any type of value and provide space in the memory and *String* is the datatype which can be stored in the variable.\n",
    "\n",
    "Eg:\n",
    "\n",
    "name = \"Akash\"\n",
    "\n",
    "So here *name* is the *variable* whereas *Akash* is a *String*\n",
    "Generally *String* is written within \" \" i.e., Double qoutes but in python *String* is written within ' ' i.e., single quotes\n"
   ]
  },
  {
   "cell_type": "markdown",
   "metadata": {},
   "source": [
    "## 3. Describe three different data types.\n",
    "\n",
    "#### Solution:\n",
    "1. Integer (Int): It is numeric data type used to store only whole numbers.\n",
    "2. Boolean (bool) : It represents the values true and False. It is also represented as 0 and 1 where 0 means false and 1 means true.\n",
    "3. Floating point (Float): It is basically a numeric data type. It basically stores decimal type values.\n",
    "\n"
   ]
  },
  {
   "cell_type": "markdown",
   "metadata": {},
   "source": [
    "## 4. What is an expression made up of? What do all expressions do?\n",
    "\n",
    "#### Solution:\n",
    "An expression is basically a combination of variables ,operators, functions and values. Expression needs to be evaluated, Like if you ask Python to print any expression, so the interpreter basically evaluates the expression and displays the result.\n",
    " \n",
    "Eg:\n",
    "\n",
    "1. print(\"My name is Akash\")\n",
    "So here \"My name is Akash\" is an expression \n"
   ]
  },
  {
   "cell_type": "markdown",
   "metadata": {},
   "source": [
    "## 5. This assignment statements, like spam = 10. What is the difference between an expression and a statement?\n",
    "\n",
    "#### Solution: \n",
    "Expression is basically a representation of the sentence with any data value such as string, int, float, Bool, complex. It is not related to the storing of any value. It can be change as per requirement While declaration means we have declared the value of by initializing some variable with it like spam=10. Here it indicate that its value will be 10 wherever we use the variable spam."
   ]
  },
  {
   "cell_type": "markdown",
   "metadata": {},
   "source": [
    "## 6. After running the following code, what does the variable bacon contain?\n",
    "bacon = 22\n",
    "bacon + 1\n",
    "#### Solution:\n",
    "It contains 23"
   ]
  },
  {
   "cell_type": "markdown",
   "metadata": {},
   "source": [
    "\n",
    "## 7. What should the values of the following two terms be?\n",
    "\n",
    "'spam' + 'spamspam'\n",
    "\n",
    "Ans: 'spamspamspam'\n",
    "\n",
    "\n",
    "\n",
    "'spam' * 3\n",
    "\n",
    "Ans : 'spamspamspam'\n",
    "\n"
   ]
  },
  {
   "cell_type": "markdown",
   "metadata": {},
   "source": [
    "## 8. Why is eggs a valid variable name while 100 is invalid?\n",
    "### Solution:\n",
    "Since 100 is an number and a variable cannot be a number also it cannot start with any number. Hence, eggs is a valid variable while 100 is invalid"
   ]
  },
  {
   "cell_type": "markdown",
   "metadata": {},
   "source": [
    "## 9. What three functions can be used to get the integer, floating-point number, or string version of a value?\n",
    "\n",
    "#### Solution:\n",
    "String, int , float"
   ]
  },
  {
   "cell_type": "markdown",
   "metadata": {},
   "source": [
    "## 10. Why does this expression cause an error? How can you fix it?\n",
    "'I have eaten' + 99 + 'burritos'\n",
    "\n",
    "#### Solution:\n",
    "\n",
    "Basically this will give because a concatenation cannot happen between string and integer datatype. Here 99 is an intger while the other 2 are strings. So we cannot add string and integer together.\n",
    "\n",
    "In order to solve this error we need to do typecasting. So we first need to convert the integer into string and then do the addition. The error will be solved. I have mentioned below the expression which will give the output without throwing any error\n",
    "\n",
    " > 'I have eaten' + '99' + 'burritos'\n"
   ]
  },
  {
   "cell_type": "code",
   "execution_count": null,
   "metadata": {},
   "outputs": [],
   "source": []
  },
  {
   "cell_type": "code",
   "execution_count": null,
   "metadata": {},
   "outputs": [],
   "source": []
  }
 ],
 "metadata": {
  "kernelspec": {
   "display_name": "Python 3",
   "language": "python",
   "name": "python3"
  },
  "language_info": {
   "codemirror_mode": {
    "name": "ipython",
    "version": 3
   },
   "file_extension": ".py",
   "mimetype": "text/x-python",
   "name": "python",
   "nbconvert_exporter": "python",
   "pygments_lexer": "ipython3",
   "version": "3.8.5"
  }
 },
 "nbformat": 4,
 "nbformat_minor": 4
}
