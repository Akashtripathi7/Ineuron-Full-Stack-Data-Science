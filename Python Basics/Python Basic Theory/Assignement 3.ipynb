{
 "cells": [
  {
   "cell_type": "markdown",
   "metadata": {},
   "source": [
    "## Assignment 3: Python Basics Theory\n",
    "\n",
    "\n",
    "### Name: Akash "
   ]
  },
  {
   "cell_type": "markdown",
   "metadata": {},
   "source": [
    "## 1. Why are functions advantageous to have in your programs?\n",
    "\n",
    "\n",
    "#### Soltution: \n",
    "Using functions in our code is very much beneficial because firstly it reduces the requirement of duplicate code. It also makes the program shorter, easy to read and easy to update."
   ]
  },
  {
   "cell_type": "markdown",
   "metadata": {},
   "source": [
    "## 2. When does the code in a function run: when it's specified or when it's called?\n",
    "\n",
    "#### solution:\n",
    "\n",
    "The function gets executed when it is called."
   ]
  },
  {
   "cell_type": "markdown",
   "metadata": {},
   "source": [
    "## 3. What statement creates a function?\n",
    "\n",
    "### solution:\n",
    "\n",
    "using the statement **def** we can create a function"
   ]
  },
  {
   "cell_type": "markdown",
   "metadata": {},
   "source": [
    "## 4. What is the difference between a function and a function call?\n",
    "\n",
    "#### Solution:\n",
    "\n",
    "A function is a piece of code which enhanced the reusability and modularity of your program. It means that piece of code need not be written again.\n",
    "A function call means  calling that function. Unless a function is called there is no use of that function.\n"
   ]
  },
  {
   "cell_type": "markdown",
   "metadata": {},
   "source": [
    "## 5. How many global scopes are there in a Python program? How many local scopes?\n",
    "\n",
    "\n",
    "#### solution:\n",
    "In **python** there is only one global scope, and a local scope is created whenever a function is called. "
   ]
  },
  {
   "cell_type": "markdown",
   "metadata": {},
   "source": [
    "## 6. What happens to variables in a local scope when the function call returns?\n",
    "\n",
    "#### Solution:\n",
    "\n",
    "Suppose we have assign a variable a= 20 above the function. Then again we assign a new variable a=35 inside the function. So when the function gets called then the variable ‘a’ which was locally assigned, return later value 35. It will not consider the value which was globally assigned\n"
   ]
  },
  {
   "cell_type": "markdown",
   "metadata": {},
   "source": [
    "## 7. What is the concept of a return value? Is it possible to have a return value in an expression?\n",
    "\n",
    "\n",
    "#### solution: \n",
    "\n",
    "A return is a value that a function returns to the calling script or function when it completes its task.\n",
    "\n",
    "Yes it is possible to have a return value in an expression, like any other value a return value is a part of an expression."
   ]
  },
  {
   "cell_type": "markdown",
   "metadata": {},
   "source": [
    "## 8. If a function does not have a return statement, what is the return value of a call to that function?\n",
    "\n",
    "#### Solution:\n",
    "\n",
    "If a function doesn't specify a return value, it returns None"
   ]
  },
  {
   "cell_type": "markdown",
   "metadata": {},
   "source": [
    "## 9. How do you make a function variable refer to the global variable?\n",
    "\n",
    "#### solution: \n",
    "Global variable is a variable which is not connected to any particular function i.e it is free to be called in any function and also be reused. Therefore to refer a function variable to global variable we use global keyword to declare which variable are global."
   ]
  },
  {
   "cell_type": "markdown",
   "metadata": {},
   "source": [
    "## 10. What is the data type of None?\n",
    "\n",
    "#### solution:\n",
    "\n",
    "NoneType is the data type"
   ]
  },
  {
   "cell_type": "markdown",
   "metadata": {},
   "source": [
    "## 11. What does the sentence import areallyourpetsnamederic do?\n",
    "##### solution:\n",
    "\n",
    "this will import the module named areallyourpetsnamederic."
   ]
  },
  {
   "cell_type": "markdown",
   "metadata": {},
   "source": [
    "## 12. If you had a bacon() feature in a spam module, what would you call it after importing spam?\n",
    "\n",
    "#### solution:\n",
    "\n",
    "spam.bacon()"
   ]
  },
  {
   "cell_type": "markdown",
   "metadata": {},
   "source": [
    "## 13. How can you prevent a program from crashing when it gets an error?\n",
    "\n",
    "##### solution:\n",
    "By using ‘try’ and ‘except’ block. Execution code will be written in ‘try’ block and self defined error will be written in ‘except’ block. This will prevent the program from crashing whenever it meets with an error"
   ]
  },
  {
   "cell_type": "markdown",
   "metadata": {},
   "source": [
    "## 14. What is the purpose of the try clause? What is the purpose of the except clause?\n",
    "\n",
    "#### solution:\n",
    "Try clause: try clause is used when you think that program can crash so you try to run the program and if  it crashes it won't be disturbing any other part of program.\n",
    "\n",
    "Except clause: except clause is basically used when you are trying a certain part of program but it fails so it used as a response to that exception.\n"
   ]
  },
  {
   "cell_type": "code",
   "execution_count": null,
   "metadata": {},
   "outputs": [],
   "source": []
  }
 ],
 "metadata": {
  "kernelspec": {
   "display_name": "Python 3",
   "language": "python",
   "name": "python3"
  },
  "language_info": {
   "codemirror_mode": {
    "name": "ipython",
    "version": 3
   },
   "file_extension": ".py",
   "mimetype": "text/x-python",
   "name": "python",
   "nbconvert_exporter": "python",
   "pygments_lexer": "ipython3",
   "version": "3.8.5"
  }
 },
 "nbformat": 4,
 "nbformat_minor": 4
}
