{
 "cells": [
  {
   "cell_type": "markdown",
   "metadata": {},
   "source": [
    "# Python Basic Theory Assignment  No. 5\n",
    "\n",
    "\n",
    "## Akash Tripathi\n",
    "\n"
   ]
  },
  {
   "cell_type": "markdown",
   "metadata": {},
   "source": [
    "### 1. What does an empty dictionary look like?\n",
    "\n",
    "Ans: An empty dictionary is represented by empty curly braces `{}`\n",
    "`d = {}`  or `d = dict{ }`\n"
   ]
  },
  {
   "cell_type": "markdown",
   "metadata": {},
   "source": [
    "### 2. What is the value of a dictionary value with the key 'foo' and the value 42?\n",
    "\n",
    "Ans: {'foo': 42}"
   ]
  },
  {
   "cell_type": "markdown",
   "metadata": {},
   "source": [
    "d = {'foo': 42}\n",
    "d\n",
    "print(\"Value = \", d.values())\n",
    "\n",
    "print(\"key = \", d.keys())"
   ]
  },
  {
   "cell_type": "markdown",
   "metadata": {},
   "source": [
    "### 3. What is the most significant distinction between a dictionary and  a list?\n",
    "\n",
    "Ans: \n",
    "1. So firstly dictionaries are represented by `{}` whereas lists are represented by `[]`\n",
    "\n",
    "2. Dictionary has a key value pair as a single entity, whereas there are individual elements in the list.\n",
    "\n",
    "3. The items stored in the dictionary are unordered, while items in the list are ordered.\n"
   ]
  },
  {
   "cell_type": "markdown",
   "metadata": {},
   "source": [
    "### 4.  What happens if you try to access spam[\"foo\"] if spam is{\"bar\": 100} ?\n",
    "\n",
    "Ans: We will get a keyError `KeyError: 'foo'`"
   ]
  },
  {
   "cell_type": "markdown",
   "metadata": {},
   "source": [
    "### 5. If a dictionary is stored in spam, what is the difference between the expressions 'cat' in spam and 'cat' in spam.keys() ?\n",
    "\n",
    "Ans: It checks whether 'cat' is present in dictionary as a key or not\n",
    "\n"
   ]
  },
  {
   "cell_type": "markdown",
   "metadata": {},
   "source": [
    "### 6. If a dictionary is stored in spam, what is the difference between the expressions 'cat' in spam and 'cat' in spam.values()?\n",
    "\n",
    "Ans: It checks whether 'cat' is present in dictionary as a value or not. "
   ]
  },
  {
   "cell_type": "markdown",
   "metadata": {},
   "source": [
    "### 7. What is the shortcut for the following code?\n",
    "`if 'color' not in spam: \n",
    " spam['color'] = 'black'`\n",
    "\n",
    "Ans: `spam.setdefault('color', 'black')`"
   ]
  },
  {
   "cell_type": "code",
   "execution_count": null,
   "metadata": {},
   "outputs": [],
   "source": []
  }
 ],
 "metadata": {
  "kernelspec": {
   "display_name": "Python 3",
   "language": "python",
   "name": "python3"
  },
  "language_info": {
   "codemirror_mode": {
    "name": "ipython",
    "version": 3
   },
   "file_extension": ".py",
   "mimetype": "text/x-python",
   "name": "python",
   "nbconvert_exporter": "python",
   "pygments_lexer": "ipython3",
   "version": "3.8.5"
  }
 },
 "nbformat": 4,
 "nbformat_minor": 4
}
