{
 "cells": [
  {
   "cell_type": "markdown",
   "metadata": {},
   "source": [
    "# Python Basic Theory Assignment 9\n",
    "\n",
    "\n",
    "## Name: Akash Tripathi"
   ]
  },
  {
   "cell_type": "markdown",
   "metadata": {},
   "source": [
    "## 1 What does a relative path refer?"
   ]
  },
  {
   "cell_type": "markdown",
   "metadata": {},
   "source": [
    "The relative path is the path to some file with respect to your current working directory (PWD).For example: If Absolute path to a file called stuff.txt is: C:/users/admin/docs/stuff.txt If my PWD is C:/users/admin/ , then the relative path to stuff.txt would be: docs/stuff.txtNote: PWD + relative path = absolute path"
   ]
  },
  {
   "cell_type": "markdown",
   "metadata": {},
   "source": [
    "## 2. Where does an absolute path start with your operating system?"
   ]
  },
  {
   "cell_type": "markdown",
   "metadata": {},
   "source": [
    "Since I am using \"ubuntu\" which uses a linux kernel, so here in linux based systems the absolute path start with `/`. Whereas in windows it starts with `c:`"
   ]
  },
  {
   "cell_type": "markdown",
   "metadata": {},
   "source": [
    "## 3. What does the functions os.getcwd() and os.chdir() do? "
   ]
  },
  {
   "cell_type": "markdown",
   "metadata": {},
   "source": [
    "`os.getcwd()` method tells us the location of current working directory (CWD). Whereas `os.chdir()` method in Python used to change the current working directory to specified path. These functions are similar to linux commands 'pwd'(stands for present working directory) and 'cd'(stands for change directory)"
   ]
  },
  {
   "cell_type": "code",
   "execution_count": 7,
   "metadata": {},
   "outputs": [
    {
     "name": "stdout",
     "output_type": "stream",
     "text": [
      "/home/akash/Documents/Full Stack Data Science/Python Basics/Python Basic Theory\n",
      "/home/akash/Documents/Full Stack Data Science\n"
     ]
    }
   ],
   "source": [
    "import os\n",
    "print(os.getcwd()) # --> this will simply print the current workin directory\n",
    "path = \"/home/akash/Documents/Full Stack Data Science\"\n",
    "\n",
    "os.chdir(path)\n",
    "print(os.getcwd())"
   ]
  },
  {
   "cell_type": "markdown",
   "metadata": {},
   "source": [
    "## 4. What are `.` and `..` folders?"
   ]
  },
  {
   "cell_type": "markdown",
   "metadata": {},
   "source": [
    "Ans. Simple `.` represents the current working directory whereas `..` represents the parent directory of the current directory.\n",
    "For example: so if  the below path is my absloute path here:\n",
    "path: `/home/akash/Documents/Full Stack Data Science/Python Basics/Python Basic Theory`\n",
    "then `.` basically represents `/home/akash/Documents/Full Stack Data Science/Python Basics/Python Basic Theory`\n",
    "\n",
    "while `..` represents `/home/akash/Documents/Full Stack Data Science`"
   ]
  },
  {
   "cell_type": "markdown",
   "metadata": {},
   "source": [
    "## 5.In C:\\bacon\\eggs\\spam.txt which part is the dir name and which part is the base name ?"
   ]
  },
  {
   "cell_type": "markdown",
   "metadata": {},
   "source": [
    "Ans. For `C:\\bacon\\eggs\\spam.txt`\n",
    "The dir name is `C:\\\\bacon\\\\eggs`\n",
    "The Base name is `spam.txt`\n",
    "\n"
   ]
  },
  {
   "cell_type": "markdown",
   "metadata": {},
   "source": [
    "## 6.What are the three mode arguments that can be passed to the open() function ?"
   ]
  },
  {
   "cell_type": "markdown",
   "metadata": {},
   "source": [
    "Ans. Three mode arguments are:\n",
    ">1. 'r' --> open for reading in text mode.\n",
    ">2. 'w' --> open for writing.\n",
    ">3. 'a' --> open for appending.\n",
    "    "
   ]
  },
  {
   "cell_type": "markdown",
   "metadata": {},
   "source": [
    "## 7. What happens if an existing file is opened in write mode?"
   ]
  },
  {
   "cell_type": "markdown",
   "metadata": {},
   "source": [
    "So when an existing file is opened in write mode the  previous content is erased and file is treated as \n",
    "new empty file. Simply said this mode will overwrite the content in the file and if the specific given file does not exist, a new file gets created."
   ]
  },
  {
   "cell_type": "markdown",
   "metadata": {},
   "source": [
    "## 8. How do you tell the difference between read() and readlines() ?"
   ]
  },
  {
   "cell_type": "markdown",
   "metadata": {},
   "source": [
    "The `readline()` will read and print the the first character that takes as many bytes as you basically specify in the paranthesis. A coder might use this function when he is reading files which are too big for his ram.\n",
    "Whereas`read()` will read the whole file at once and then print our the first characters that simply takes as many bytes as specified inside the paranthesis."
   ]
  },
  {
   "cell_type": "markdown",
   "metadata": {},
   "source": [
    "## 9. What data structure does a shelf value resemble?"
   ]
  },
  {
   "cell_type": "markdown",
   "metadata": {},
   "source": [
    "Since it contains key and values it basically represents a dictionary in python"
   ]
  },
  {
   "cell_type": "code",
   "execution_count": null,
   "metadata": {},
   "outputs": [],
   "source": []
  }
 ],
 "metadata": {
  "kernelspec": {
   "display_name": "Python 3",
   "language": "python",
   "name": "python3"
  },
  "language_info": {
   "codemirror_mode": {
    "name": "ipython",
    "version": 3
   },
   "file_extension": ".py",
   "mimetype": "text/x-python",
   "name": "python",
   "nbconvert_exporter": "python",
   "pygments_lexer": "ipython3",
   "version": "3.8.5"
  }
 },
 "nbformat": 4,
 "nbformat_minor": 4
}
