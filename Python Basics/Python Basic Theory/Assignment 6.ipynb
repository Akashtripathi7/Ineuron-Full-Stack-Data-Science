{
 "cells": [
  {
   "cell_type": "markdown",
   "metadata": {},
   "source": [
    "# Python Basic Theory Assignment 6\n",
    "\n",
    "## Name: Akash Tripathi"
   ]
  },
  {
   "cell_type": "markdown",
   "metadata": {},
   "source": [
    "### 1. What are the escape characters and how to do you use them?\n",
    "\n",
    "Ans: In python there are some strings or character which are not allowed . We are not able to use them So in order to use those strings or character we need the escape character. This character is basically backslash '\\' followed by the character which you want to have in your syntax.\n",
    "\n",
    "Eg: print(' I don\\'t want to use any other /tlanguage')\n",
    "\n",
    "o/p: 'I don't want to use any other language')\n",
    "\n",
    "Other: \\' -->Single Quote\n",
    "\\ -->Backslash \\n -->New Line\n",
    "\\r -->Carriage Return\n",
    "\\t --> Tab\n",
    "\\b -->Backspace\n"
   ]
  },
  {
   "cell_type": "markdown",
   "metadata": {},
   "source": [
    "### 2. What do the escape characters n and t stand for?\n",
    "\n",
    "Ans: \n",
    "`/n --> New line`\n",
    "\n",
    "`/t --> Tab`"
   ]
  },
  {
   "cell_type": "markdown",
   "metadata": {},
   "source": [
    "### 3.  What is the way to include backslash characters in a string?\n",
    "\n",
    "Ans: The `//` escape character basically represents the backslash character in a string."
   ]
  },
  {
   "cell_type": "markdown",
   "metadata": {},
   "source": [
    "### 4.The string \"Howl's Moving Castle\" is a correct value. Why isn't the single quote character in the word Howl's not escaped a problem ?\n",
    "\n",
    "Ans: Because in python we can use single quote inside the double quotes or vice verca"
   ]
  },
  {
   "cell_type": "markdown",
   "metadata": {},
   "source": [
    "### 5. How do you write a string of newlines if you don't want to use the n character?\n",
    "\n",
    "Ans: We can use Multiline string which allowes us to use newlines in string without `/n` escape character"
   ]
  },
  {
   "cell_type": "code",
   "execution_count": 1,
   "metadata": {},
   "outputs": [
    {
     "name": "stdout",
     "output_type": "stream",
     "text": [
      "Hello! My name is \n",
      "Akash Tripathi and I am a part of \n",
      "Full Stack Data Science  Batch\n"
     ]
    }
   ],
   "source": [
    "# Example:\n",
    "\n",
    "eg = '''Hello! My name is \n",
    "Akash Tripathi and I am a part of \n",
    "Full Stack Data Science  Batch'''\n",
    "print(eg)"
   ]
  },
  {
   "cell_type": "markdown",
   "metadata": {},
   "source": [
    "\n",
    "### 6.What are the values of the given expressions ?\n",
    "\n",
    "'Hello, world!'[1]\n",
    "\n",
    "'Hello, world!'[0:5]\n",
    "\n",
    "'Hello, world!'[:5]\n",
    "\n",
    "'Hello, world!'[3:]\n",
    "\n",
    "\n",
    "Ans: The values for the given expressions are:\n",
    "'Hello, world!'[1] -> `'e'`\n",
    "\n",
    "'Hello, world!'[0:5] -> `'Hello'`\n",
    "\n",
    "'Hello, world!'[:5] -> `'Hello'`\n",
    "\n",
    "'Hello, world!'[3:] -> `'lo, world!'`\n"
   ]
  },
  {
   "cell_type": "markdown",
   "metadata": {},
   "source": [
    "### 7. What are the values of the following expressions ?\n",
    "\n",
    "'Hello'.upper()\n",
    "\n",
    "'Hello'.upper().isupper()\n",
    "\n",
    "'Hello'.upper().lower()\n",
    "\n",
    "Ans: The values for the given expressions are:\n",
    "\n",
    "'Hello'.upper() -> `'HELLO'`\n",
    "\n",
    "'Hello'.upper().isupper() -> `True`\n",
    "\n",
    "'Hello'.upper().lower() -> `'hello'`\n"
   ]
  },
  {
   "cell_type": "code",
   "execution_count": 11,
   "metadata": {},
   "outputs": [
    {
     "name": "stdout",
     "output_type": "stream",
     "text": [
      "['Remember,', 'remember,', 'the', 'fifith', 'of', 'July.']\n",
      "There-can-only-one\n"
     ]
    }
   ],
   "source": [
    "print('Remember, remember, the fifith of July.'.split())\n",
    "\n",
    "print('-'.join('There can only one'.split()))"
   ]
  },
  {
   "cell_type": "markdown",
   "metadata": {},
   "source": [
    "### 8.What are the values of the following expressions ?'Remember, remember, the fifith of July.'.split() '-'.join('There can only one'.split())\n",
    "\n",
    "\n",
    "Ans: The values for the given expressions are:\n",
    "'Remember, remember, the fifith of July.'.split() -> `['Remember,', 'remember,', 'the', 'fifith', 'of', 'July.']`\n",
    "'-'.join('There can only one'.split()) -> `'There-can-only-one'`"
   ]
  },
  {
   "cell_type": "markdown",
   "metadata": {},
   "source": [
    "\n",
    "### 9. What are the methods for right-justifying, left-justifying, and centering a string?\n",
    "\n",
    "1. rjust() for right-justifyning a string\n",
    "2. ljust() for left-justifying a string\n",
    "3. center() for centerning a string\n",
    "\n"
   ]
  },
  {
   "cell_type": "markdown",
   "metadata": {},
   "source": [
    "### 10. What is the best way to remove whitespace characters from the start or end?\n",
    "\n"
   ]
  },
  {
   "cell_type": "code",
   "execution_count": 16,
   "metadata": {},
   "outputs": [
    {
     "data": {
      "text/plain": [
       "'HellomynameisAkash'"
      ]
     },
     "execution_count": 16,
     "metadata": {},
     "output_type": "execute_result"
    }
   ],
   "source": [
    "name = \"Hello my name is Akash\"\n",
    "name.replace(\" \", \"\")"
   ]
  },
  {
   "cell_type": "code",
   "execution_count": null,
   "metadata": {},
   "outputs": [],
   "source": []
  },
  {
   "cell_type": "code",
   "execution_count": null,
   "metadata": {},
   "outputs": [],
   "source": []
  },
  {
   "cell_type": "code",
   "execution_count": null,
   "metadata": {},
   "outputs": [],
   "source": []
  },
  {
   "cell_type": "code",
   "execution_count": null,
   "metadata": {},
   "outputs": [],
   "source": []
  },
  {
   "cell_type": "code",
   "execution_count": null,
   "metadata": {},
   "outputs": [],
   "source": []
  },
  {
   "cell_type": "code",
   "execution_count": null,
   "metadata": {},
   "outputs": [],
   "source": []
  },
  {
   "cell_type": "code",
   "execution_count": null,
   "metadata": {},
   "outputs": [],
   "source": []
  },
  {
   "cell_type": "code",
   "execution_count": null,
   "metadata": {},
   "outputs": [],
   "source": []
  }
 ],
 "metadata": {
  "kernelspec": {
   "display_name": "Python 3",
   "language": "python",
   "name": "python3"
  },
  "language_info": {
   "codemirror_mode": {
    "name": "ipython",
    "version": 3
   },
   "file_extension": ".py",
   "mimetype": "text/x-python",
   "name": "python",
   "nbconvert_exporter": "python",
   "pygments_lexer": "ipython3",
   "version": "3.8.5"
  }
 },
 "nbformat": 4,
 "nbformat_minor": 4
}
