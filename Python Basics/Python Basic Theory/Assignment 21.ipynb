{
  "cells": [
    {
      "cell_type": "markdown",
      "source": [
        "# Python Basic Theory Assignment 21\n",
        "\n",
        "\n",
        "## Name: Akash Tripathi"
      ],
      "metadata": {
        "id": "1o2vQf1ddkts"
      },
      "id": "1o2vQf1ddkts"
    },
    {
      "cell_type": "markdown",
      "id": "4fe8b19e",
      "metadata": {
        "id": "4fe8b19e"
      },
      "source": [
        "#### 1. Add the current date to the text file today.txt as a string."
      ]
    },
    {
      "cell_type": "code",
      "execution_count": 1,
      "id": "4c5ad5ac",
      "metadata": {
        "id": "4c5ad5ac",
        "outputId": "f6687d9d-e799-4b92-c05d-e9cebe21704c",
        "colab": {
          "base_uri": "https://localhost:8080/"
        }
      },
      "outputs": [
        {
          "output_type": "stream",
          "name": "stdout",
          "text": [
            "21-01-2022\n"
          ]
        }
      ],
      "source": [
        "import datetime\n",
        "# Code to Add current date to the today.txt file\n",
        "file = open('today.txt','w')\n",
        "file.write(datetime.datetime.now().strftime(\"%d-%m-%Y\"))\n",
        "file.close()\n",
        "# Code to Read current date from today.txt file\n",
        "file = open('today.txt','r')\n",
        "print(file.read())\n",
        "file.close()"
      ]
    },
    {
      "cell_type": "markdown",
      "id": "6cf23762",
      "metadata": {
        "id": "6cf23762"
      },
      "source": [
        "#### 2. Read the text file today.txt into the string today_string"
      ]
    },
    {
      "cell_type": "code",
      "execution_count": 2,
      "id": "107143ea",
      "metadata": {
        "id": "107143ea",
        "outputId": "339bf277-a95f-4c60-aa25-82d4bbc00b70",
        "colab": {
          "base_uri": "https://localhost:8080/"
        }
      },
      "outputs": [
        {
          "output_type": "stream",
          "name": "stdout",
          "text": [
            "21-01-2022\n"
          ]
        }
      ],
      "source": [
        "file = open('today.txt','r')\n",
        "today_string = file.read()\n",
        "print(today_string)"
      ]
    },
    {
      "cell_type": "markdown",
      "id": "165addb6",
      "metadata": {
        "id": "165addb6"
      },
      "source": [
        "#### 3. Parse the date from today_string."
      ]
    },
    {
      "cell_type": "code",
      "execution_count": 3,
      "id": "c622da5b",
      "metadata": {
        "id": "c622da5b",
        "outputId": "d2754494-e19a-432a-fd44-5bae7f40398b",
        "colab": {
          "base_uri": "https://localhost:8080/"
        }
      },
      "outputs": [
        {
          "output_type": "stream",
          "name": "stdout",
          "text": [
            "2022-01-21 00:00:00\n"
          ]
        }
      ],
      "source": [
        "from datetime import datetime\n",
        "parsed_data = datetime.strptime(today_string, '%d-%m-%Y')\n",
        "print(parsed_data)"
      ]
    },
    {
      "cell_type": "markdown",
      "id": "664d3278",
      "metadata": {
        "id": "664d3278"
      },
      "source": [
        "#### 4. List the files in your current directory"
      ]
    },
    {
      "cell_type": "code",
      "execution_count": null,
      "id": "cbacd0e4",
      "metadata": {
        "id": "cbacd0e4",
        "outputId": "1add32d3-8a77-429a-d040-840936972902"
      },
      "outputs": [
        {
          "name": "stdout",
          "output_type": "stream",
          "text": [
            "01.Assignment_01.ipynb\n",
            "02.Assignment_02.ipynb\n",
            "03.Assignment_03.ipynb\n",
            "04.Assignment_04.ipynb\n",
            "05.Assignment_05.ipynb\n",
            "06.Assignment_06.ipynb\n",
            "07.Assignment_07.ipynb\n",
            "08.Assignment_08.ipynb\n",
            "09.Assignment_09.ipynb\n",
            "10.Assignment_10.ipynb\n",
            "11.Assignment_11.ipynb\n",
            "12.Assignment_12.ipynb\n",
            "13.Assignment_13.ipynb\n",
            "14.Assignment_14.ipynb\n",
            "15.Assignment_15.ipynb\n",
            "16.Assignment_16.ipynb\n",
            "17.Assignment_17.ipynb\n",
            "18.Assignment_18.ipynb\n",
            "19.Assignment_19.ipynb\n",
            "20.Assignment_20.ipynb\n",
            "21.Assignment_21.ipynb\n",
            "22.Assignment_22.ipynb\n",
            "23.Assignment_23.ipynb\n",
            "24.Assignment_24.ipynb\n",
            "25.Assignment_25.ipynb\n",
            "today.txt\n",
            "21.Assignment_21-checkpoint.ipynb\n",
            "22.Assignment_22-checkpoint.ipynb\n",
            "23.Assignment_23-checkpoint.ipynb\n",
            "24.Assignment_24-checkpoint.ipynb\n",
            "25.Assignment_25-checkpoint.ipynb\n"
          ]
        }
      ],
      "source": [
        "import os\n",
        "for folders, subfolders, files in os.walk(os.getcwd()):\n",
        "    for file in files:\n",
        "        print(file)"
      ]
    },
    {
      "cell_type": "markdown",
      "id": "291a203b",
      "metadata": {
        "id": "291a203b"
      },
      "source": [
        "#### 5. Create a list of all of the files in your parent directory (minimum five files should be available)."
      ]
    },
    {
      "cell_type": "code",
      "execution_count": null,
      "id": "efe9618b",
      "metadata": {
        "id": "efe9618b",
        "outputId": "91bb9b69-1d4f-466e-df98-2f07022b0ed6"
      },
      "outputs": [
        {
          "data": {
            "text/plain": [
              "['.ipynb_checkpoints',\n",
              " '01.Assignment_01.ipynb',\n",
              " '02.Assignment_02.ipynb',\n",
              " '03.Assignment_03.ipynb',\n",
              " '04.Assignment_04.ipynb',\n",
              " '05.Assignment_05.ipynb',\n",
              " '06.Assignment_06.ipynb',\n",
              " '07.Assignment_07.ipynb',\n",
              " '08.Assignment_08.ipynb',\n",
              " '09.Assignment_09.ipynb',\n",
              " '10.Assignment_10.ipynb',\n",
              " '11.Assignment_11.ipynb',\n",
              " '12.Assignment_12.ipynb',\n",
              " '13.Assignment_13.ipynb',\n",
              " '14.Assignment_14.ipynb',\n",
              " '15.Assignment_15.ipynb',\n",
              " '16.Assignment_16.ipynb',\n",
              " '17.Assignment_17.ipynb',\n",
              " '18.Assignment_18.ipynb',\n",
              " '19.Assignment_19.ipynb',\n",
              " '20.Assignment_20.ipynb',\n",
              " '21.Assignment_21.ipynb',\n",
              " '22.Assignment_22.ipynb',\n",
              " '23.Assignment_23.ipynb',\n",
              " '24.Assignment_24.ipynb',\n",
              " '25.Assignment_25.ipynb',\n",
              " 'today.txt']"
            ]
          },
          "execution_count": 5,
          "metadata": {},
          "output_type": "execute_result"
        }
      ],
      "source": [
        "import os \n",
        "os.listdir()"
      ]
    },
    {
      "cell_type": "markdown",
      "id": "203dd9fe",
      "metadata": {
        "id": "203dd9fe"
      },
      "source": [
        "#### 6. Use multiprocessing to create three separate processes. Make each one wait a random number of seconds between one and five, print the current time, and then exit."
      ]
    },
    {
      "cell_type": "code",
      "execution_count": null,
      "id": "bcb2799b",
      "metadata": {
        "id": "bcb2799b"
      },
      "outputs": [],
      "source": [
        "import multiprocessing\n",
        "import time \n",
        "import random\n",
        "import datetime\n",
        "\n",
        "def procOne():\n",
        "    print(f'Proc_one_Starttime -> {datetime.datetime.now()}')\n",
        "    time.sleep(random.randint(1,5))\n",
        "    print(f'Proc_one_Endtime -> {datetime.datetime.now()}')\n",
        "    \n",
        "def procTwo():\n",
        "    print(f'Proc_two_Starttime -> {datetime.datetime.now()}')\n",
        "    time.sleep(random.randint(1,5))\n",
        "    print(f'Proc_two_Endtime -> {datetime.datetime.now()}')\n",
        "\n",
        "def procThree():\n",
        "    print(f'Proc_two_Starttime -> {datetime.datetime.now()}')\n",
        "    time.sleep(random.randint(1,5))\n",
        "    print(f'Proc_two_Endtime -> {datetime.datetime.now()}')\n",
        "    \n",
        "if __name__ == \"__main__\":    \n",
        "    p1 = multiprocessing.Process(target=procOne)\n",
        "    p2 = multiprocessing.Process(target=procTwo)\n",
        "    p3 = multiprocessing.Process(target=procThree)\n",
        "\n",
        "    p1.start()\n",
        "    p2.start()\n",
        "    p3.start()\n",
        "\n",
        "    p1.join()\n",
        "    p2.join()\n",
        "    p3.join()"
      ]
    },
    {
      "cell_type": "markdown",
      "id": "71d07e78",
      "metadata": {
        "id": "71d07e78"
      },
      "source": [
        "#### 7. Create a date object of your day of birth."
      ]
    },
    {
      "cell_type": "code",
      "execution_count": 5,
      "id": "b3e67c1c",
      "metadata": {
        "id": "b3e67c1c",
        "outputId": "77fa03b9-b426-4def-928c-43836532df56",
        "colab": {
          "base_uri": "https://localhost:8080/"
        }
      },
      "outputs": [
        {
          "output_type": "stream",
          "name": "stdout",
          "text": [
            "2000-06-07 00:00:00 <class 'datetime.datetime'>\n"
          ]
        }
      ],
      "source": [
        "from datetime import datetime\n",
        "my_dob = datetime.strptime('07/06/2000','%d/%m/%Y')\n",
        "print(my_dob, type(my_dob))"
      ]
    },
    {
      "cell_type": "markdown",
      "id": "e5775db9",
      "metadata": {
        "id": "e5775db9"
      },
      "source": [
        "#### 8. What day of the week was your day of birth?"
      ]
    },
    {
      "cell_type": "code",
      "execution_count": 7,
      "id": "65b6ae43",
      "metadata": {
        "id": "65b6ae43",
        "outputId": "679c2b50-24fd-47e5-b22e-0fc788a612ea",
        "colab": {
          "base_uri": "https://localhost:8080/",
          "height": 35
        }
      },
      "outputs": [
        {
          "output_type": "execute_result",
          "data": {
            "application/vnd.google.colaboratory.intrinsic+json": {
              "type": "string"
            },
            "text/plain": [
              "'Wednesday'"
            ]
          },
          "metadata": {},
          "execution_count": 7
        }
      ],
      "source": [
        "from datetime import datetime\n",
        "my_dob = datetime(2000,6,7)\n",
        "my_dob.strftime(\"%A\")"
      ]
    },
    {
      "cell_type": "markdown",
      "id": "abe779de",
      "metadata": {
        "id": "abe779de"
      },
      "source": [
        "#### 9. When will you be (or when were you) 10,000 days old?"
      ]
    },
    {
      "cell_type": "code",
      "execution_count": 8,
      "id": "db7e28a0",
      "metadata": {
        "id": "db7e28a0",
        "outputId": "87d626d7-da97-40a2-b9a4-1220de440bc1",
        "colab": {
          "base_uri": "https://localhost:8080/"
        }
      },
      "outputs": [
        {
          "output_type": "execute_result",
          "data": {
            "text/plain": [
              "datetime.datetime(1973, 1, 20, 0, 0)"
            ]
          },
          "metadata": {},
          "execution_count": 8
        }
      ],
      "source": [
        "from datetime import datetime, timedelta\n",
        "my_dob = datetime.strptime(\"07/06/2000\",'%d/%m/%Y')\n",
        "future_date = my_dob-timedelta(10000)\n",
        "future_date"
      ]
    },
    {
      "cell_type": "code",
      "source": [
        ""
      ],
      "metadata": {
        "id": "4vfafGq1fjKi"
      },
      "id": "4vfafGq1fjKi",
      "execution_count": null,
      "outputs": []
    }
  ],
  "metadata": {
    "kernelspec": {
      "display_name": "Python 3",
      "language": "python",
      "name": "python3"
    },
    "language_info": {
      "codemirror_mode": {
        "name": "ipython",
        "version": 3
      },
      "file_extension": ".py",
      "mimetype": "text/x-python",
      "name": "python",
      "nbconvert_exporter": "python",
      "pygments_lexer": "ipython3",
      "version": "3.8.8"
    },
    "colab": {
      "name": "21.Assignment_21.ipynb",
      "provenance": []
    }
  },
  "nbformat": 4,
  "nbformat_minor": 5
}